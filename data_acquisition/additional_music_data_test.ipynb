{
 "cells": [
  {
   "cell_type": "code",
   "execution_count": 1,
   "metadata": {},
   "outputs": [],
   "source": [
    "import spotify_info\n",
    "import pandas as pd\n",
    "from tqdm import tqdm\n",
    "import simplejson as json\n",
    "import asyncio"
   ]
  },
  {
   "cell_type": "code",
   "execution_count": 2,
   "metadata": {},
   "outputs": [
    {
     "name": "stdout",
     "output_type": "stream",
     "text": [
      "Testing\n"
     ]
    }
   ],
   "source": [
    "spotify_info.test()"
   ]
  },
  {
   "cell_type": "code",
   "execution_count": 3,
   "metadata": {},
   "outputs": [],
   "source": [
    "track_uri = \"spotify:track:0UaMYEvWZi0ZqiDOoHU3YI\"\n",
    "artist_uri = \"spotify:artist:2wIVse2owClT7go1WT98tk\"\n",
    "album_uri = \"spotify:album:6vV5UrXcfyQD1wu4Qo2I9K\""
   ]
  },
  {
   "cell_type": "code",
   "execution_count": 4,
   "metadata": {},
   "outputs": [
    {
     "data": {
      "text/plain": [
       "{'danceability': 0.904,\n",
       " 'energy': 0.813,\n",
       " 'key': 4,\n",
       " 'loudness': -7.105,\n",
       " 'mode': 0,\n",
       " 'speechiness': 0.121,\n",
       " 'acousticness': 0.0311,\n",
       " 'instrumentalness': 0.00697,\n",
       " 'liveness': 0.0471,\n",
       " 'valence': 0.81,\n",
       " 'tempo': 125.461,\n",
       " 'uri': 'spotify:track:0UaMYEvWZi0ZqiDOoHU3YI',\n",
       " 'duration_ms': 226864}"
      ]
     },
     "execution_count": 4,
     "metadata": {},
     "output_type": "execute_result"
    }
   ],
   "source": [
    "await spotify_info.get_track_info(track_uri)"
   ]
  },
  {
   "cell_type": "code",
   "execution_count": 5,
   "metadata": {},
   "outputs": [
    {
     "data": {
      "text/plain": [
       "{'followers': {'href': None, 'total': 2202723},\n",
       " 'genres': ['dance pop',\n",
       "  'hip hop',\n",
       "  'hip pop',\n",
       "  'neo soul',\n",
       "  'pop rap',\n",
       "  'r&b',\n",
       "  'rap',\n",
       "  'urban contemporary',\n",
       "  'virginia hip hop'],\n",
       " 'popularity': 73,\n",
       " 'type': 'artist',\n",
       " 'uri': 'spotify:artist:2wIVse2owClT7go1WT98tk'}"
      ]
     },
     "execution_count": 5,
     "metadata": {},
     "output_type": "execute_result"
    }
   ],
   "source": [
    "await spotify_info.get_artist_info(artist_uri)"
   ]
  },
  {
   "cell_type": "code",
   "execution_count": 6,
   "metadata": {},
   "outputs": [
    {
     "data": {
      "text/plain": [
       "{'genres': [],\n",
       " 'label': 'Atlantic Records/ATG',\n",
       " 'popularity': 62,\n",
       " 'release_date': '2005-07-04',\n",
       " 'release_date_precision': 'day',\n",
       " 'total_tracks': 16,\n",
       " 'uri': 'spotify:album:6vV5UrXcfyQD1wu4Qo2I9K'}"
      ]
     },
     "execution_count": 6,
     "metadata": {},
     "output_type": "execute_result"
    }
   ],
   "source": [
    "await spotify_info.get_album_info(album_uri)\n"
   ]
  },
  {
   "cell_type": "code",
   "execution_count": 7,
   "metadata": {},
   "outputs": [
    {
     "data": {
      "text/plain": [
       "{'danceability': 0.904,\n",
       " 'energy': 0.813,\n",
       " 'key': 4,\n",
       " 'loudness': -7.105,\n",
       " 'mode': 0,\n",
       " 'speechiness': 0.121,\n",
       " 'acousticness': 0.0311,\n",
       " 'instrumentalness': 0.00697,\n",
       " 'liveness': 0.0471,\n",
       " 'valence': 0.81,\n",
       " 'tempo': 125.461,\n",
       " 'uri': 'spotify:track:0UaMYEvWZi0ZqiDOoHU3YI',\n",
       " 'duration_ms': 226864}"
      ]
     },
     "execution_count": 7,
     "metadata": {},
     "output_type": "execute_result"
    }
   ],
   "source": [
    "a = await spotify_info.get_track_info(track_uri)\n",
    "a"
   ]
  },
  {
   "cell_type": "code",
   "execution_count": 8,
   "metadata": {},
   "outputs": [
    {
     "data": {
      "text/plain": [
       "{'danceability': 0.904,\n",
       " 'energy': 0.813,\n",
       " 'loudness': -7.105,\n",
       " 'mode': 0,\n",
       " 'speechiness': 0.121,\n",
       " 'acousticness': 0.0311,\n",
       " 'instrumentalness': 0.00697,\n",
       " 'liveness': 0.0471,\n",
       " 'valence': 0.81,\n",
       " 'tempo': 125.461,\n",
       " 'uri': 'spotify:track:0UaMYEvWZi0ZqiDOoHU3YI',\n",
       " 'duration_ms': 226864}"
      ]
     },
     "execution_count": 8,
     "metadata": {},
     "output_type": "execute_result"
    }
   ],
   "source": [
    "a.pop(\"key\",None)\n",
    "a"
   ]
  },
  {
   "attachments": {},
   "cell_type": "markdown",
   "metadata": {},
   "source": [
    "## Read all files"
   ]
  },
  {
   "cell_type": "code",
   "execution_count": 9,
   "metadata": {},
   "outputs": [],
   "source": [
    "files = ['mpd.slice.0-999.json'\n",
    ",'mpd.slice.1000-1999.json'\n",
    ",'mpd.slice.2000-2999.json'\n",
    ",'mpd.slice.3000-3999.json'\n",
    ",'mpd.slice.4000-4999.json'\n",
    ",'mpd.slice.5000-5999.json'\n",
    ",'mpd.slice.6000-6999.json'\n",
    ",'mpd.slice.7000-7999.json'\n",
    ",'mpd.slice.8000-8999.json'\n",
    ",'mpd.slice.9000-9999.json']"
   ]
  },
  {
   "attachments": {},
   "cell_type": "markdown",
   "metadata": {},
   "source": [
    "## collect all unique uri"
   ]
  },
  {
   "cell_type": "code",
   "execution_count": 10,
   "metadata": {},
   "outputs": [],
   "source": [
    "def get_all_tracks_list(filename):\n",
    "    \"\"\"Extract tracks from the playlists using a JSON data source file\n",
    "\n",
    "    Args:\n",
    "        filename (str): The file path of json file\n",
    "\n",
    "    Returns:\n",
    "        list: A list of dataframe. Contains tracks information from playlist, each attribute in the list is one collection of tracks of one playlist\n",
    "    \"\"\"\n",
    "    with open(filename,'r') as f:\n",
    "        data = json.load(f)\n",
    "\n",
    "    ls_df_tracks = []\n",
    "    for playlist in data['playlists']:\n",
    "        df_temp = pd.DataFrame.from_records(playlist['tracks'])\n",
    "        df_temp['pid'] = playlist['pid']\n",
    "        ls_df_tracks.append(df_temp)\n",
    "\n",
    "    return ls_df_tracks\n"
   ]
  },
  {
   "cell_type": "code",
   "execution_count": 11,
   "metadata": {},
   "outputs": [
    {
     "name": "stderr",
     "output_type": "stream",
     "text": [
      "100%|██████████| 10/10 [00:07<00:00,  1.38it/s]\n"
     ]
    }
   ],
   "source": [
    "ls_df_tracks = []\n",
    "for f_name in tqdm(files):\n",
    "    ls_df_tracks += get_all_tracks_list(\"../data/\"+f_name)"
   ]
  },
  {
   "cell_type": "code",
   "execution_count": 12,
   "metadata": {},
   "outputs": [
    {
     "data": {
      "text/html": [
       "<div>\n",
       "<style scoped>\n",
       "    .dataframe tbody tr th:only-of-type {\n",
       "        vertical-align: middle;\n",
       "    }\n",
       "\n",
       "    .dataframe tbody tr th {\n",
       "        vertical-align: top;\n",
       "    }\n",
       "\n",
       "    .dataframe thead th {\n",
       "        text-align: right;\n",
       "    }\n",
       "</style>\n",
       "<table border=\"1\" class=\"dataframe\">\n",
       "  <thead>\n",
       "    <tr style=\"text-align: right;\">\n",
       "      <th></th>\n",
       "      <th>pos</th>\n",
       "      <th>artist_name</th>\n",
       "      <th>track_uri</th>\n",
       "      <th>artist_uri</th>\n",
       "      <th>track_name</th>\n",
       "      <th>album_uri</th>\n",
       "      <th>duration_ms</th>\n",
       "      <th>album_name</th>\n",
       "      <th>pid</th>\n",
       "    </tr>\n",
       "  </thead>\n",
       "  <tbody>\n",
       "    <tr>\n",
       "      <th>0</th>\n",
       "      <td>0</td>\n",
       "      <td>Missy Elliott</td>\n",
       "      <td>spotify:track:0UaMYEvWZi0ZqiDOoHU3YI</td>\n",
       "      <td>spotify:artist:2wIVse2owClT7go1WT98tk</td>\n",
       "      <td>Lose Control (feat. Ciara &amp; Fat Man Scoop)</td>\n",
       "      <td>spotify:album:6vV5UrXcfyQD1wu4Qo2I9K</td>\n",
       "      <td>226863</td>\n",
       "      <td>The Cookbook</td>\n",
       "      <td>0</td>\n",
       "    </tr>\n",
       "    <tr>\n",
       "      <th>1</th>\n",
       "      <td>1</td>\n",
       "      <td>Britney Spears</td>\n",
       "      <td>spotify:track:6I9VzXrHxO9rA9A5euc8Ak</td>\n",
       "      <td>spotify:artist:26dSoYclwsYLMAKD3tpOr4</td>\n",
       "      <td>Toxic</td>\n",
       "      <td>spotify:album:0z7pVBGOD7HCIB7S8eLkLI</td>\n",
       "      <td>198800</td>\n",
       "      <td>In The Zone</td>\n",
       "      <td>0</td>\n",
       "    </tr>\n",
       "    <tr>\n",
       "      <th>2</th>\n",
       "      <td>2</td>\n",
       "      <td>Beyoncé</td>\n",
       "      <td>spotify:track:0WqIKmW4BTrj3eJFmnCKMv</td>\n",
       "      <td>spotify:artist:6vWDO969PvNqNYHIOW5v0m</td>\n",
       "      <td>Crazy In Love</td>\n",
       "      <td>spotify:album:25hVFAxTlDvXbx2X2QkUkE</td>\n",
       "      <td>235933</td>\n",
       "      <td>Dangerously In Love (Alben für die Ewigkeit)</td>\n",
       "      <td>0</td>\n",
       "    </tr>\n",
       "    <tr>\n",
       "      <th>3</th>\n",
       "      <td>3</td>\n",
       "      <td>Justin Timberlake</td>\n",
       "      <td>spotify:track:1AWQoqb9bSvzTjaLralEkT</td>\n",
       "      <td>spotify:artist:31TPClRtHm23RisEBtV3X7</td>\n",
       "      <td>Rock Your Body</td>\n",
       "      <td>spotify:album:6QPkyl04rXwTGlGlcYaRoW</td>\n",
       "      <td>267266</td>\n",
       "      <td>Justified</td>\n",
       "      <td>0</td>\n",
       "    </tr>\n",
       "    <tr>\n",
       "      <th>4</th>\n",
       "      <td>4</td>\n",
       "      <td>Shaggy</td>\n",
       "      <td>spotify:track:1lzr43nnXAijIGYnCT8M8H</td>\n",
       "      <td>spotify:artist:5EvFsr3kj42KNv97ZEnqij</td>\n",
       "      <td>It Wasn't Me</td>\n",
       "      <td>spotify:album:6NmFmPX56pcLBOFMhIiKvF</td>\n",
       "      <td>227600</td>\n",
       "      <td>Hot Shot</td>\n",
       "      <td>0</td>\n",
       "    </tr>\n",
       "    <tr>\n",
       "      <th>...</th>\n",
       "      <td>...</td>\n",
       "      <td>...</td>\n",
       "      <td>...</td>\n",
       "      <td>...</td>\n",
       "      <td>...</td>\n",
       "      <td>...</td>\n",
       "      <td>...</td>\n",
       "      <td>...</td>\n",
       "      <td>...</td>\n",
       "    </tr>\n",
       "    <tr>\n",
       "      <th>664707</th>\n",
       "      <td>50</td>\n",
       "      <td>Keith Urban</td>\n",
       "      <td>spotify:track:6ZOPiKQeibCn7fP8dncucL</td>\n",
       "      <td>spotify:artist:0u2FHSq3ln94y5Q57xazwf</td>\n",
       "      <td>Blue Ain't Your Color</td>\n",
       "      <td>spotify:album:1r7ABqzNXQnUPAH3ZjrHMn</td>\n",
       "      <td>230600</td>\n",
       "      <td>Ripcord</td>\n",
       "      <td>9999</td>\n",
       "    </tr>\n",
       "    <tr>\n",
       "      <th>664708</th>\n",
       "      <td>51</td>\n",
       "      <td>Dustin Lynch</td>\n",
       "      <td>spotify:track:7pxhKtuTwofDIdgHx2DcVK</td>\n",
       "      <td>spotify:artist:1dID9zgn0OV0Y8ud7Mh2tS</td>\n",
       "      <td>Seein' Red</td>\n",
       "      <td>spotify:album:23cuZhPWDfX1uKD4qwuv7t</td>\n",
       "      <td>194893</td>\n",
       "      <td>Current Mood</td>\n",
       "      <td>9999</td>\n",
       "    </tr>\n",
       "    <tr>\n",
       "      <th>664709</th>\n",
       "      <td>52</td>\n",
       "      <td>Sam Hunt</td>\n",
       "      <td>spotify:track:7mldq42yDuxiUNn08nvzHO</td>\n",
       "      <td>spotify:artist:2kucQ9jQwuD8jWdtR9Ef38</td>\n",
       "      <td>Body Like A Back Road</td>\n",
       "      <td>spotify:album:2N7kidh1wA9EoLdf16QWrz</td>\n",
       "      <td>165386</td>\n",
       "      <td>Body Like A Back Road</td>\n",
       "      <td>9999</td>\n",
       "    </tr>\n",
       "    <tr>\n",
       "      <th>664710</th>\n",
       "      <td>53</td>\n",
       "      <td>Little Big Town</td>\n",
       "      <td>spotify:track:23TxRN09aR1RB0G0tFoT0b</td>\n",
       "      <td>spotify:artist:3CygdxquGHurS7f9LjNLkv</td>\n",
       "      <td>Better Man</td>\n",
       "      <td>spotify:album:2aQOzEjLzPkffXDwREXdAh</td>\n",
       "      <td>263120</td>\n",
       "      <td>The Breaker</td>\n",
       "      <td>9999</td>\n",
       "    </tr>\n",
       "    <tr>\n",
       "      <th>664711</th>\n",
       "      <td>54</td>\n",
       "      <td>Thompson Square</td>\n",
       "      <td>spotify:track:2TAcwD5KcV9uY3O1tLGV15</td>\n",
       "      <td>spotify:artist:0Bvs8yPjrQSbmVIRqSg1Sp</td>\n",
       "      <td>Are You Gonna Kiss Me Or Not</td>\n",
       "      <td>spotify:album:0kXrl96iUzWkRvxnfrC2YF</td>\n",
       "      <td>184920</td>\n",
       "      <td>Thompson Square</td>\n",
       "      <td>9999</td>\n",
       "    </tr>\n",
       "  </tbody>\n",
       "</table>\n",
       "<p>664712 rows × 9 columns</p>\n",
       "</div>"
      ],
      "text/plain": [
       "        pos        artist_name                             track_uri  \\\n",
       "0         0      Missy Elliott  spotify:track:0UaMYEvWZi0ZqiDOoHU3YI   \n",
       "1         1     Britney Spears  spotify:track:6I9VzXrHxO9rA9A5euc8Ak   \n",
       "2         2            Beyoncé  spotify:track:0WqIKmW4BTrj3eJFmnCKMv   \n",
       "3         3  Justin Timberlake  spotify:track:1AWQoqb9bSvzTjaLralEkT   \n",
       "4         4             Shaggy  spotify:track:1lzr43nnXAijIGYnCT8M8H   \n",
       "...     ...                ...                                   ...   \n",
       "664707   50        Keith Urban  spotify:track:6ZOPiKQeibCn7fP8dncucL   \n",
       "664708   51       Dustin Lynch  spotify:track:7pxhKtuTwofDIdgHx2DcVK   \n",
       "664709   52           Sam Hunt  spotify:track:7mldq42yDuxiUNn08nvzHO   \n",
       "664710   53    Little Big Town  spotify:track:23TxRN09aR1RB0G0tFoT0b   \n",
       "664711   54    Thompson Square  spotify:track:2TAcwD5KcV9uY3O1tLGV15   \n",
       "\n",
       "                                   artist_uri  \\\n",
       "0       spotify:artist:2wIVse2owClT7go1WT98tk   \n",
       "1       spotify:artist:26dSoYclwsYLMAKD3tpOr4   \n",
       "2       spotify:artist:6vWDO969PvNqNYHIOW5v0m   \n",
       "3       spotify:artist:31TPClRtHm23RisEBtV3X7   \n",
       "4       spotify:artist:5EvFsr3kj42KNv97ZEnqij   \n",
       "...                                       ...   \n",
       "664707  spotify:artist:0u2FHSq3ln94y5Q57xazwf   \n",
       "664708  spotify:artist:1dID9zgn0OV0Y8ud7Mh2tS   \n",
       "664709  spotify:artist:2kucQ9jQwuD8jWdtR9Ef38   \n",
       "664710  spotify:artist:3CygdxquGHurS7f9LjNLkv   \n",
       "664711  spotify:artist:0Bvs8yPjrQSbmVIRqSg1Sp   \n",
       "\n",
       "                                        track_name  \\\n",
       "0       Lose Control (feat. Ciara & Fat Man Scoop)   \n",
       "1                                            Toxic   \n",
       "2                                    Crazy In Love   \n",
       "3                                   Rock Your Body   \n",
       "4                                     It Wasn't Me   \n",
       "...                                            ...   \n",
       "664707                       Blue Ain't Your Color   \n",
       "664708                                  Seein' Red   \n",
       "664709                       Body Like A Back Road   \n",
       "664710                                  Better Man   \n",
       "664711                Are You Gonna Kiss Me Or Not   \n",
       "\n",
       "                                   album_uri  duration_ms  \\\n",
       "0       spotify:album:6vV5UrXcfyQD1wu4Qo2I9K       226863   \n",
       "1       spotify:album:0z7pVBGOD7HCIB7S8eLkLI       198800   \n",
       "2       spotify:album:25hVFAxTlDvXbx2X2QkUkE       235933   \n",
       "3       spotify:album:6QPkyl04rXwTGlGlcYaRoW       267266   \n",
       "4       spotify:album:6NmFmPX56pcLBOFMhIiKvF       227600   \n",
       "...                                      ...          ...   \n",
       "664707  spotify:album:1r7ABqzNXQnUPAH3ZjrHMn       230600   \n",
       "664708  spotify:album:23cuZhPWDfX1uKD4qwuv7t       194893   \n",
       "664709  spotify:album:2N7kidh1wA9EoLdf16QWrz       165386   \n",
       "664710  spotify:album:2aQOzEjLzPkffXDwREXdAh       263120   \n",
       "664711  spotify:album:0kXrl96iUzWkRvxnfrC2YF       184920   \n",
       "\n",
       "                                          album_name   pid  \n",
       "0                                       The Cookbook     0  \n",
       "1                                        In The Zone     0  \n",
       "2       Dangerously In Love (Alben für die Ewigkeit)     0  \n",
       "3                                          Justified     0  \n",
       "4                                           Hot Shot     0  \n",
       "...                                              ...   ...  \n",
       "664707                                       Ripcord  9999  \n",
       "664708                                  Current Mood  9999  \n",
       "664709                         Body Like A Back Road  9999  \n",
       "664710                                   The Breaker  9999  \n",
       "664711                               Thompson Square  9999  \n",
       "\n",
       "[664712 rows x 9 columns]"
      ]
     },
     "execution_count": 12,
     "metadata": {},
     "output_type": "execute_result"
    }
   ],
   "source": [
    "df_tracks = pd.concat(ls_df_tracks, ignore_index=True)\n",
    "df_tracks"
   ]
  },
  {
   "cell_type": "code",
   "execution_count": 1,
   "metadata": {},
   "outputs": [
    {
     "ename": "NameError",
     "evalue": "name 'df_tracks' is not defined",
     "output_type": "error",
     "traceback": [
      "\u001b[1;31m---------------------------------------------------------------------------\u001b[0m",
      "\u001b[1;31mNameError\u001b[0m                                 Traceback (most recent call last)",
      "\u001b[1;32m~\\AppData\\Local\\Temp\\ipykernel_31108\\464987005.py\u001b[0m in \u001b[0;36m<module>\u001b[1;34m\u001b[0m\n\u001b[0;32m      1\u001b[0m \u001b[1;31m# unique values of the columns\u001b[0m\u001b[1;33m\u001b[0m\u001b[1;33m\u001b[0m\u001b[0m\n\u001b[1;32m----> 2\u001b[1;33m \u001b[0mprint\u001b[0m\u001b[1;33m(\u001b[0m\u001b[1;34m\"track_uri\"\u001b[0m\u001b[1;33m,\u001b[0m\u001b[0mlen\u001b[0m\u001b[1;33m(\u001b[0m\u001b[0mdf_tracks\u001b[0m\u001b[1;33m.\u001b[0m\u001b[0mtrack_uri\u001b[0m\u001b[1;33m.\u001b[0m\u001b[0munique\u001b[0m\u001b[1;33m(\u001b[0m\u001b[1;33m)\u001b[0m\u001b[1;33m)\u001b[0m\u001b[1;33m)\u001b[0m\u001b[1;33m\u001b[0m\u001b[1;33m\u001b[0m\u001b[0m\n\u001b[0m\u001b[0;32m      3\u001b[0m \u001b[0mprint\u001b[0m\u001b[1;33m(\u001b[0m\u001b[1;34m\"artist_uri\"\u001b[0m\u001b[1;33m,\u001b[0m\u001b[0mlen\u001b[0m\u001b[1;33m(\u001b[0m\u001b[0mdf_tracks\u001b[0m\u001b[1;33m.\u001b[0m\u001b[0martist_uri\u001b[0m\u001b[1;33m.\u001b[0m\u001b[0munique\u001b[0m\u001b[1;33m(\u001b[0m\u001b[1;33m)\u001b[0m\u001b[1;33m)\u001b[0m\u001b[1;33m)\u001b[0m\u001b[1;33m\u001b[0m\u001b[1;33m\u001b[0m\u001b[0m\n\u001b[0;32m      4\u001b[0m \u001b[0mprint\u001b[0m\u001b[1;33m(\u001b[0m\u001b[1;34m\"album_uri\"\u001b[0m\u001b[1;33m,\u001b[0m\u001b[0mlen\u001b[0m\u001b[1;33m(\u001b[0m\u001b[0mdf_tracks\u001b[0m\u001b[1;33m.\u001b[0m\u001b[0malbum_uri\u001b[0m\u001b[1;33m.\u001b[0m\u001b[0munique\u001b[0m\u001b[1;33m(\u001b[0m\u001b[1;33m)\u001b[0m\u001b[1;33m)\u001b[0m\u001b[1;33m)\u001b[0m\u001b[1;33m\u001b[0m\u001b[1;33m\u001b[0m\u001b[0m\n",
      "\u001b[1;31mNameError\u001b[0m: name 'df_tracks' is not defined"
     ]
    }
   ],
   "source": [
    "# unique values of the columns\n",
    "print(\"track_uri\",len(df_tracks.track_uri.unique()))\n",
    "print(\"artist_uri\",len(df_tracks.artist_uri.unique()))\n",
    "print(\"album_uri\",len(df_tracks.album_uri.unique()))\n"
   ]
  },
  {
   "attachments": {},
   "cell_type": "markdown",
   "metadata": {},
   "source": [
    "## TODO using the spotify api to collect infomation"
   ]
  },
  {
   "cell_type": "code",
   "execution_count": 14,
   "metadata": {},
   "outputs": [],
   "source": [
    "async def collect_artist_info(artist_uri):\n",
    "    ls_info = []\n",
    "    async def one_iteration(uri):\n",
    "        result = await spotify_info.get_artist_info(uri)\n",
    "        ls_info.append(result)\n",
    "    \n",
    "    coros = [one_iteration(i) for i in artist_uri]\n",
    "    await asyncio.gather(*coros)\n",
    "\n",
    "    return ls_info"
   ]
  },
  {
   "cell_type": "code",
   "execution_count": 15,
   "metadata": {},
   "outputs": [
    {
     "name": "stderr",
     "output_type": "stream",
     "text": [
      "100%|██████████| 35892/35892 [00:00<00:00, 1924276.96it/s]\n"
     ]
    }
   ],
   "source": [
    "ls_artist_info = await collect_artist_info(df_tracks.artist_uri.unique())"
   ]
  },
  {
   "cell_type": "code",
   "execution_count": null,
   "metadata": {},
   "outputs": [],
   "source": [
    "import pickle"
   ]
  },
  {
   "cell_type": "code",
   "execution_count": null,
   "metadata": {},
   "outputs": [],
   "source": [
    "df_artist_info = pd.concat(ls_artist_info, ignore_index=True)\n",
    "df_artist_info.to_pickle(\"../data/\"+\"artist_info.pkl\") "
   ]
  },
  {
   "cell_type": "code",
   "execution_count": 1,
   "metadata": {},
   "outputs": [
    {
     "name": "stderr",
     "output_type": "stream",
     "text": [
      "c:\\Users\\bobmst\\.conda\\envs\\ds310\\lib\\site-packages\\numpy\\_distributor_init.py:30: UserWarning: loaded more than 1 DLL from .libs:\n",
      "c:\\Users\\bobmst\\.conda\\envs\\ds310\\lib\\site-packages\\numpy\\.libs\\libopenblas.FB5AE2TYXYH2IJRDKGDGQ3XBKLKTF43H.gfortran-win_amd64.dll\n",
      "c:\\Users\\bobmst\\.conda\\envs\\ds310\\lib\\site-packages\\numpy\\.libs\\libopenblas64__v0.3.21-gcc_10_3_0.dll\n",
      "  warnings.warn(\"loaded more than 1 DLL from .libs:\"\n"
     ]
    }
   ],
   "source": [
    "import pickle\n",
    "import pandas as pd"
   ]
  },
  {
   "cell_type": "code",
   "execution_count": 3,
   "metadata": {},
   "outputs": [
    {
     "data": {
      "text/html": [
       "<div>\n",
       "<style scoped>\n",
       "    .dataframe tbody tr th:only-of-type {\n",
       "        vertical-align: middle;\n",
       "    }\n",
       "\n",
       "    .dataframe tbody tr th {\n",
       "        vertical-align: top;\n",
       "    }\n",
       "\n",
       "    .dataframe thead th {\n",
       "        text-align: right;\n",
       "    }\n",
       "</style>\n",
       "<table border=\"1\" class=\"dataframe\">\n",
       "  <thead>\n",
       "    <tr style=\"text-align: right;\">\n",
       "      <th></th>\n",
       "      <th>danceability</th>\n",
       "      <th>energy</th>\n",
       "      <th>key</th>\n",
       "      <th>loudness</th>\n",
       "      <th>mode</th>\n",
       "      <th>speechiness</th>\n",
       "      <th>acousticness</th>\n",
       "      <th>instrumentalness</th>\n",
       "      <th>liveness</th>\n",
       "      <th>valence</th>\n",
       "      <th>tempo</th>\n",
       "      <th>uri</th>\n",
       "      <th>duration_ms</th>\n",
       "    </tr>\n",
       "  </thead>\n",
       "  <tbody>\n",
       "    <tr>\n",
       "      <th>0</th>\n",
       "      <td>0.904</td>\n",
       "      <td>0.813</td>\n",
       "      <td>4</td>\n",
       "      <td>-7.105</td>\n",
       "      <td>0</td>\n",
       "      <td>0.1210</td>\n",
       "      <td>0.031100</td>\n",
       "      <td>0.006970</td>\n",
       "      <td>0.0471</td>\n",
       "      <td>0.810</td>\n",
       "      <td>125.461</td>\n",
       "      <td>spotify:track:0UaMYEvWZi0ZqiDOoHU3YI</td>\n",
       "      <td>226864</td>\n",
       "    </tr>\n",
       "    <tr>\n",
       "      <th>1</th>\n",
       "      <td>0.774</td>\n",
       "      <td>0.838</td>\n",
       "      <td>5</td>\n",
       "      <td>-3.914</td>\n",
       "      <td>0</td>\n",
       "      <td>0.1140</td>\n",
       "      <td>0.024900</td>\n",
       "      <td>0.025000</td>\n",
       "      <td>0.2420</td>\n",
       "      <td>0.924</td>\n",
       "      <td>143.040</td>\n",
       "      <td>spotify:track:6I9VzXrHxO9rA9A5euc8Ak</td>\n",
       "      <td>198800</td>\n",
       "    </tr>\n",
       "    <tr>\n",
       "      <th>2</th>\n",
       "      <td>0.664</td>\n",
       "      <td>0.758</td>\n",
       "      <td>2</td>\n",
       "      <td>-6.583</td>\n",
       "      <td>0</td>\n",
       "      <td>0.2100</td>\n",
       "      <td>0.002380</td>\n",
       "      <td>0.000000</td>\n",
       "      <td>0.0598</td>\n",
       "      <td>0.701</td>\n",
       "      <td>99.259</td>\n",
       "      <td>spotify:track:0WqIKmW4BTrj3eJFmnCKMv</td>\n",
       "      <td>235933</td>\n",
       "    </tr>\n",
       "    <tr>\n",
       "      <th>3</th>\n",
       "      <td>0.892</td>\n",
       "      <td>0.714</td>\n",
       "      <td>4</td>\n",
       "      <td>-6.055</td>\n",
       "      <td>0</td>\n",
       "      <td>0.1410</td>\n",
       "      <td>0.201000</td>\n",
       "      <td>0.000234</td>\n",
       "      <td>0.0521</td>\n",
       "      <td>0.817</td>\n",
       "      <td>100.972</td>\n",
       "      <td>spotify:track:1AWQoqb9bSvzTjaLralEkT</td>\n",
       "      <td>267267</td>\n",
       "    </tr>\n",
       "    <tr>\n",
       "      <th>4</th>\n",
       "      <td>0.853</td>\n",
       "      <td>0.606</td>\n",
       "      <td>0</td>\n",
       "      <td>-4.596</td>\n",
       "      <td>1</td>\n",
       "      <td>0.0713</td>\n",
       "      <td>0.056100</td>\n",
       "      <td>0.000000</td>\n",
       "      <td>0.3130</td>\n",
       "      <td>0.654</td>\n",
       "      <td>94.759</td>\n",
       "      <td>spotify:track:1lzr43nnXAijIGYnCT8M8H</td>\n",
       "      <td>227600</td>\n",
       "    </tr>\n",
       "    <tr>\n",
       "      <th>...</th>\n",
       "      <td>...</td>\n",
       "      <td>...</td>\n",
       "      <td>...</td>\n",
       "      <td>...</td>\n",
       "      <td>...</td>\n",
       "      <td>...</td>\n",
       "      <td>...</td>\n",
       "      <td>...</td>\n",
       "      <td>...</td>\n",
       "      <td>...</td>\n",
       "      <td>...</td>\n",
       "      <td>...</td>\n",
       "      <td>...</td>\n",
       "    </tr>\n",
       "    <tr>\n",
       "      <th>170084</th>\n",
       "      <td>0.551</td>\n",
       "      <td>0.822</td>\n",
       "      <td>11</td>\n",
       "      <td>-7.018</td>\n",
       "      <td>0</td>\n",
       "      <td>0.0614</td>\n",
       "      <td>0.001540</td>\n",
       "      <td>0.000000</td>\n",
       "      <td>0.2150</td>\n",
       "      <td>0.360</td>\n",
       "      <td>127.043</td>\n",
       "      <td>spotify:track:4cKPzfOUIZWXhu3GDnESjL</td>\n",
       "      <td>265039</td>\n",
       "    </tr>\n",
       "    <tr>\n",
       "      <th>170085</th>\n",
       "      <td>0.480</td>\n",
       "      <td>0.761</td>\n",
       "      <td>6</td>\n",
       "      <td>-4.628</td>\n",
       "      <td>1</td>\n",
       "      <td>0.0367</td>\n",
       "      <td>0.120000</td>\n",
       "      <td>0.000000</td>\n",
       "      <td>0.2960</td>\n",
       "      <td>0.359</td>\n",
       "      <td>160.020</td>\n",
       "      <td>spotify:track:0VICzaRdctD8XGfDstBjQY</td>\n",
       "      <td>368767</td>\n",
       "    </tr>\n",
       "    <tr>\n",
       "      <th>170086</th>\n",
       "      <td>0.402</td>\n",
       "      <td>0.767</td>\n",
       "      <td>11</td>\n",
       "      <td>-6.718</td>\n",
       "      <td>0</td>\n",
       "      <td>0.1710</td>\n",
       "      <td>0.000077</td>\n",
       "      <td>0.000003</td>\n",
       "      <td>0.3930</td>\n",
       "      <td>0.558</td>\n",
       "      <td>178.293</td>\n",
       "      <td>spotify:track:0B4YuevrDNhh71edZrFiOs</td>\n",
       "      <td>179267</td>\n",
       "    </tr>\n",
       "    <tr>\n",
       "      <th>170087</th>\n",
       "      <td>0.678</td>\n",
       "      <td>0.826</td>\n",
       "      <td>0</td>\n",
       "      <td>-4.742</td>\n",
       "      <td>0</td>\n",
       "      <td>0.0591</td>\n",
       "      <td>0.005240</td>\n",
       "      <td>0.000000</td>\n",
       "      <td>0.0951</td>\n",
       "      <td>0.706</td>\n",
       "      <td>139.989</td>\n",
       "      <td>spotify:track:7i9q0VPbENCoYnJUsJhX9d</td>\n",
       "      <td>242347</td>\n",
       "    </tr>\n",
       "    <tr>\n",
       "      <th>170088</th>\n",
       "      <td>0.670</td>\n",
       "      <td>0.483</td>\n",
       "      <td>9</td>\n",
       "      <td>-7.124</td>\n",
       "      <td>0</td>\n",
       "      <td>0.1250</td>\n",
       "      <td>0.213000</td>\n",
       "      <td>0.000000</td>\n",
       "      <td>0.0550</td>\n",
       "      <td>0.770</td>\n",
       "      <td>170.115</td>\n",
       "      <td>spotify:track:6uaJuze0LunPtcbCu1JNtq</td>\n",
       "      <td>169390</td>\n",
       "    </tr>\n",
       "  </tbody>\n",
       "</table>\n",
       "<p>170089 rows × 13 columns</p>\n",
       "</div>"
      ],
      "text/plain": [
       "        danceability  energy  key  loudness  mode  speechiness  acousticness  \\\n",
       "0              0.904   0.813    4    -7.105     0       0.1210      0.031100   \n",
       "1              0.774   0.838    5    -3.914     0       0.1140      0.024900   \n",
       "2              0.664   0.758    2    -6.583     0       0.2100      0.002380   \n",
       "3              0.892   0.714    4    -6.055     0       0.1410      0.201000   \n",
       "4              0.853   0.606    0    -4.596     1       0.0713      0.056100   \n",
       "...              ...     ...  ...       ...   ...          ...           ...   \n",
       "170084         0.551   0.822   11    -7.018     0       0.0614      0.001540   \n",
       "170085         0.480   0.761    6    -4.628     1       0.0367      0.120000   \n",
       "170086         0.402   0.767   11    -6.718     0       0.1710      0.000077   \n",
       "170087         0.678   0.826    0    -4.742     0       0.0591      0.005240   \n",
       "170088         0.670   0.483    9    -7.124     0       0.1250      0.213000   \n",
       "\n",
       "        instrumentalness  liveness  valence    tempo  \\\n",
       "0               0.006970    0.0471    0.810  125.461   \n",
       "1               0.025000    0.2420    0.924  143.040   \n",
       "2               0.000000    0.0598    0.701   99.259   \n",
       "3               0.000234    0.0521    0.817  100.972   \n",
       "4               0.000000    0.3130    0.654   94.759   \n",
       "...                  ...       ...      ...      ...   \n",
       "170084          0.000000    0.2150    0.360  127.043   \n",
       "170085          0.000000    0.2960    0.359  160.020   \n",
       "170086          0.000003    0.3930    0.558  178.293   \n",
       "170087          0.000000    0.0951    0.706  139.989   \n",
       "170088          0.000000    0.0550    0.770  170.115   \n",
       "\n",
       "                                         uri  duration_ms  \n",
       "0       spotify:track:0UaMYEvWZi0ZqiDOoHU3YI       226864  \n",
       "1       spotify:track:6I9VzXrHxO9rA9A5euc8Ak       198800  \n",
       "2       spotify:track:0WqIKmW4BTrj3eJFmnCKMv       235933  \n",
       "3       spotify:track:1AWQoqb9bSvzTjaLralEkT       267267  \n",
       "4       spotify:track:1lzr43nnXAijIGYnCT8M8H       227600  \n",
       "...                                      ...          ...  \n",
       "170084  spotify:track:4cKPzfOUIZWXhu3GDnESjL       265039  \n",
       "170085  spotify:track:0VICzaRdctD8XGfDstBjQY       368767  \n",
       "170086  spotify:track:0B4YuevrDNhh71edZrFiOs       179267  \n",
       "170087  spotify:track:7i9q0VPbENCoYnJUsJhX9d       242347  \n",
       "170088  spotify:track:6uaJuze0LunPtcbCu1JNtq       169390  \n",
       "\n",
       "[170089 rows x 13 columns]"
      ]
     },
     "execution_count": 3,
     "metadata": {},
     "output_type": "execute_result"
    }
   ],
   "source": [
    "pd.read_pickle(\"../data/\"+\"track_info_all.pkl\") "
   ]
  },
  {
   "attachments": {},
   "cell_type": "markdown",
   "metadata": {},
   "source": [
    "## TODO merge the collected information back to track, artist, album dataset"
   ]
  }
 ],
 "metadata": {
  "kernelspec": {
   "display_name": "ds310",
   "language": "python",
   "name": "python3"
  },
  "language_info": {
   "codemirror_mode": {
    "name": "ipython",
    "version": 3
   },
   "file_extension": ".py",
   "mimetype": "text/x-python",
   "name": "python",
   "nbconvert_exporter": "python",
   "pygments_lexer": "ipython3",
   "version": "3.10.4"
  },
  "orig_nbformat": 4
 },
 "nbformat": 4,
 "nbformat_minor": 2
}
