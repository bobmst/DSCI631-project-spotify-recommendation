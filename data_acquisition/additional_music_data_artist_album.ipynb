{
 "cells": [
  {
   "cell_type": "code",
   "execution_count": 1,
   "metadata": {},
   "outputs": [],
   "source": [
    "import spotify_info\n",
    "import pandas as pd\n",
    "from tqdm import tqdm\n",
    "import simplejson as json\n",
    "import asyncio\n",
    "import numpy as np\n",
    "import pickle"
   ]
  },
  {
   "cell_type": "code",
   "execution_count": 2,
   "metadata": {},
   "outputs": [
    {
     "name": "stdout",
     "output_type": "stream",
     "text": [
      "Testing\n"
     ]
    }
   ],
   "source": [
    "spotify_info.test()"
   ]
  },
  {
   "cell_type": "code",
   "execution_count": 3,
   "metadata": {},
   "outputs": [],
   "source": [
    "track_uri = \"spotify:track:0UaMYEvWZi0ZqiDOoHU3YI\"\n",
    "artist_uri = \"spotify:artist:2wIVse2owClT7go1WT98tk\"\n",
    "album_uri = \"spotify:album:6vV5UrXcfyQD1wu4Qo2I9K\""
   ]
  },
  {
   "attachments": {},
   "cell_type": "markdown",
   "metadata": {},
   "source": [
    "## Read all files"
   ]
  },
  {
   "cell_type": "code",
   "execution_count": 4,
   "metadata": {},
   "outputs": [],
   "source": [
    "files = ['mpd.slice.0-999.json'\n",
    ",'mpd.slice.1000-1999.json'\n",
    ",'mpd.slice.2000-2999.json'\n",
    ",'mpd.slice.3000-3999.json'\n",
    ",'mpd.slice.4000-4999.json'\n",
    ",'mpd.slice.5000-5999.json'\n",
    ",'mpd.slice.6000-6999.json'\n",
    ",'mpd.slice.7000-7999.json'\n",
    ",'mpd.slice.8000-8999.json'\n",
    ",'mpd.slice.9000-9999.json']"
   ]
  },
  {
   "attachments": {},
   "cell_type": "markdown",
   "metadata": {},
   "source": [
    "## collect all unique uri"
   ]
  },
  {
   "cell_type": "code",
   "execution_count": 5,
   "metadata": {},
   "outputs": [],
   "source": [
    "def get_all_tracks_list(filename):\n",
    "    \"\"\"Extract tracks from the playlists using a JSON data source file\n",
    "\n",
    "    Args:\n",
    "        filename (str): The file path of json file\n",
    "\n",
    "    Returns:\n",
    "        list: A list of dataframe. Contains tracks information from playlist, each attribute in the list is one collection of tracks of one playlist\n",
    "    \"\"\"\n",
    "    with open(filename,'r') as f:\n",
    "        data = json.load(f)\n",
    "\n",
    "    ls_df_tracks = []\n",
    "    for playlist in data['playlists']:\n",
    "        df_temp = pd.DataFrame.from_records(playlist['tracks'])\n",
    "        df_temp['pid'] = playlist['pid']\n",
    "        ls_df_tracks.append(df_temp)\n",
    "\n",
    "    return ls_df_tracks\n"
   ]
  },
  {
   "cell_type": "code",
   "execution_count": 6,
   "metadata": {},
   "outputs": [
    {
     "name": "stderr",
     "output_type": "stream",
     "text": [
      "100%|██████████| 10/10 [00:08<00:00,  1.14it/s]\n"
     ]
    }
   ],
   "source": [
    "ls_df_tracks = []\n",
    "for f_name in tqdm(files):\n",
    "    ls_df_tracks += get_all_tracks_list(\"../data/\"+f_name)"
   ]
  },
  {
   "cell_type": "code",
   "execution_count": 7,
   "metadata": {},
   "outputs": [
    {
     "data": {
      "text/html": [
       "<div>\n",
       "<style scoped>\n",
       "    .dataframe tbody tr th:only-of-type {\n",
       "        vertical-align: middle;\n",
       "    }\n",
       "\n",
       "    .dataframe tbody tr th {\n",
       "        vertical-align: top;\n",
       "    }\n",
       "\n",
       "    .dataframe thead th {\n",
       "        text-align: right;\n",
       "    }\n",
       "</style>\n",
       "<table border=\"1\" class=\"dataframe\">\n",
       "  <thead>\n",
       "    <tr style=\"text-align: right;\">\n",
       "      <th></th>\n",
       "      <th>pos</th>\n",
       "      <th>artist_name</th>\n",
       "      <th>track_uri</th>\n",
       "      <th>artist_uri</th>\n",
       "      <th>track_name</th>\n",
       "      <th>album_uri</th>\n",
       "      <th>duration_ms</th>\n",
       "      <th>album_name</th>\n",
       "      <th>pid</th>\n",
       "    </tr>\n",
       "  </thead>\n",
       "  <tbody>\n",
       "    <tr>\n",
       "      <th>0</th>\n",
       "      <td>0</td>\n",
       "      <td>Missy Elliott</td>\n",
       "      <td>spotify:track:0UaMYEvWZi0ZqiDOoHU3YI</td>\n",
       "      <td>spotify:artist:2wIVse2owClT7go1WT98tk</td>\n",
       "      <td>Lose Control (feat. Ciara &amp; Fat Man Scoop)</td>\n",
       "      <td>spotify:album:6vV5UrXcfyQD1wu4Qo2I9K</td>\n",
       "      <td>226863</td>\n",
       "      <td>The Cookbook</td>\n",
       "      <td>0</td>\n",
       "    </tr>\n",
       "    <tr>\n",
       "      <th>1</th>\n",
       "      <td>1</td>\n",
       "      <td>Britney Spears</td>\n",
       "      <td>spotify:track:6I9VzXrHxO9rA9A5euc8Ak</td>\n",
       "      <td>spotify:artist:26dSoYclwsYLMAKD3tpOr4</td>\n",
       "      <td>Toxic</td>\n",
       "      <td>spotify:album:0z7pVBGOD7HCIB7S8eLkLI</td>\n",
       "      <td>198800</td>\n",
       "      <td>In The Zone</td>\n",
       "      <td>0</td>\n",
       "    </tr>\n",
       "    <tr>\n",
       "      <th>2</th>\n",
       "      <td>2</td>\n",
       "      <td>Beyoncé</td>\n",
       "      <td>spotify:track:0WqIKmW4BTrj3eJFmnCKMv</td>\n",
       "      <td>spotify:artist:6vWDO969PvNqNYHIOW5v0m</td>\n",
       "      <td>Crazy In Love</td>\n",
       "      <td>spotify:album:25hVFAxTlDvXbx2X2QkUkE</td>\n",
       "      <td>235933</td>\n",
       "      <td>Dangerously In Love (Alben für die Ewigkeit)</td>\n",
       "      <td>0</td>\n",
       "    </tr>\n",
       "    <tr>\n",
       "      <th>3</th>\n",
       "      <td>3</td>\n",
       "      <td>Justin Timberlake</td>\n",
       "      <td>spotify:track:1AWQoqb9bSvzTjaLralEkT</td>\n",
       "      <td>spotify:artist:31TPClRtHm23RisEBtV3X7</td>\n",
       "      <td>Rock Your Body</td>\n",
       "      <td>spotify:album:6QPkyl04rXwTGlGlcYaRoW</td>\n",
       "      <td>267266</td>\n",
       "      <td>Justified</td>\n",
       "      <td>0</td>\n",
       "    </tr>\n",
       "    <tr>\n",
       "      <th>4</th>\n",
       "      <td>4</td>\n",
       "      <td>Shaggy</td>\n",
       "      <td>spotify:track:1lzr43nnXAijIGYnCT8M8H</td>\n",
       "      <td>spotify:artist:5EvFsr3kj42KNv97ZEnqij</td>\n",
       "      <td>It Wasn't Me</td>\n",
       "      <td>spotify:album:6NmFmPX56pcLBOFMhIiKvF</td>\n",
       "      <td>227600</td>\n",
       "      <td>Hot Shot</td>\n",
       "      <td>0</td>\n",
       "    </tr>\n",
       "    <tr>\n",
       "      <th>...</th>\n",
       "      <td>...</td>\n",
       "      <td>...</td>\n",
       "      <td>...</td>\n",
       "      <td>...</td>\n",
       "      <td>...</td>\n",
       "      <td>...</td>\n",
       "      <td>...</td>\n",
       "      <td>...</td>\n",
       "      <td>...</td>\n",
       "    </tr>\n",
       "    <tr>\n",
       "      <th>664707</th>\n",
       "      <td>50</td>\n",
       "      <td>Keith Urban</td>\n",
       "      <td>spotify:track:6ZOPiKQeibCn7fP8dncucL</td>\n",
       "      <td>spotify:artist:0u2FHSq3ln94y5Q57xazwf</td>\n",
       "      <td>Blue Ain't Your Color</td>\n",
       "      <td>spotify:album:1r7ABqzNXQnUPAH3ZjrHMn</td>\n",
       "      <td>230600</td>\n",
       "      <td>Ripcord</td>\n",
       "      <td>9999</td>\n",
       "    </tr>\n",
       "    <tr>\n",
       "      <th>664708</th>\n",
       "      <td>51</td>\n",
       "      <td>Dustin Lynch</td>\n",
       "      <td>spotify:track:7pxhKtuTwofDIdgHx2DcVK</td>\n",
       "      <td>spotify:artist:1dID9zgn0OV0Y8ud7Mh2tS</td>\n",
       "      <td>Seein' Red</td>\n",
       "      <td>spotify:album:23cuZhPWDfX1uKD4qwuv7t</td>\n",
       "      <td>194893</td>\n",
       "      <td>Current Mood</td>\n",
       "      <td>9999</td>\n",
       "    </tr>\n",
       "    <tr>\n",
       "      <th>664709</th>\n",
       "      <td>52</td>\n",
       "      <td>Sam Hunt</td>\n",
       "      <td>spotify:track:7mldq42yDuxiUNn08nvzHO</td>\n",
       "      <td>spotify:artist:2kucQ9jQwuD8jWdtR9Ef38</td>\n",
       "      <td>Body Like A Back Road</td>\n",
       "      <td>spotify:album:2N7kidh1wA9EoLdf16QWrz</td>\n",
       "      <td>165386</td>\n",
       "      <td>Body Like A Back Road</td>\n",
       "      <td>9999</td>\n",
       "    </tr>\n",
       "    <tr>\n",
       "      <th>664710</th>\n",
       "      <td>53</td>\n",
       "      <td>Little Big Town</td>\n",
       "      <td>spotify:track:23TxRN09aR1RB0G0tFoT0b</td>\n",
       "      <td>spotify:artist:3CygdxquGHurS7f9LjNLkv</td>\n",
       "      <td>Better Man</td>\n",
       "      <td>spotify:album:2aQOzEjLzPkffXDwREXdAh</td>\n",
       "      <td>263120</td>\n",
       "      <td>The Breaker</td>\n",
       "      <td>9999</td>\n",
       "    </tr>\n",
       "    <tr>\n",
       "      <th>664711</th>\n",
       "      <td>54</td>\n",
       "      <td>Thompson Square</td>\n",
       "      <td>spotify:track:2TAcwD5KcV9uY3O1tLGV15</td>\n",
       "      <td>spotify:artist:0Bvs8yPjrQSbmVIRqSg1Sp</td>\n",
       "      <td>Are You Gonna Kiss Me Or Not</td>\n",
       "      <td>spotify:album:0kXrl96iUzWkRvxnfrC2YF</td>\n",
       "      <td>184920</td>\n",
       "      <td>Thompson Square</td>\n",
       "      <td>9999</td>\n",
       "    </tr>\n",
       "  </tbody>\n",
       "</table>\n",
       "<p>664712 rows × 9 columns</p>\n",
       "</div>"
      ],
      "text/plain": [
       "        pos        artist_name                             track_uri  \\\n",
       "0         0      Missy Elliott  spotify:track:0UaMYEvWZi0ZqiDOoHU3YI   \n",
       "1         1     Britney Spears  spotify:track:6I9VzXrHxO9rA9A5euc8Ak   \n",
       "2         2            Beyoncé  spotify:track:0WqIKmW4BTrj3eJFmnCKMv   \n",
       "3         3  Justin Timberlake  spotify:track:1AWQoqb9bSvzTjaLralEkT   \n",
       "4         4             Shaggy  spotify:track:1lzr43nnXAijIGYnCT8M8H   \n",
       "...     ...                ...                                   ...   \n",
       "664707   50        Keith Urban  spotify:track:6ZOPiKQeibCn7fP8dncucL   \n",
       "664708   51       Dustin Lynch  spotify:track:7pxhKtuTwofDIdgHx2DcVK   \n",
       "664709   52           Sam Hunt  spotify:track:7mldq42yDuxiUNn08nvzHO   \n",
       "664710   53    Little Big Town  spotify:track:23TxRN09aR1RB0G0tFoT0b   \n",
       "664711   54    Thompson Square  spotify:track:2TAcwD5KcV9uY3O1tLGV15   \n",
       "\n",
       "                                   artist_uri  \\\n",
       "0       spotify:artist:2wIVse2owClT7go1WT98tk   \n",
       "1       spotify:artist:26dSoYclwsYLMAKD3tpOr4   \n",
       "2       spotify:artist:6vWDO969PvNqNYHIOW5v0m   \n",
       "3       spotify:artist:31TPClRtHm23RisEBtV3X7   \n",
       "4       spotify:artist:5EvFsr3kj42KNv97ZEnqij   \n",
       "...                                       ...   \n",
       "664707  spotify:artist:0u2FHSq3ln94y5Q57xazwf   \n",
       "664708  spotify:artist:1dID9zgn0OV0Y8ud7Mh2tS   \n",
       "664709  spotify:artist:2kucQ9jQwuD8jWdtR9Ef38   \n",
       "664710  spotify:artist:3CygdxquGHurS7f9LjNLkv   \n",
       "664711  spotify:artist:0Bvs8yPjrQSbmVIRqSg1Sp   \n",
       "\n",
       "                                        track_name  \\\n",
       "0       Lose Control (feat. Ciara & Fat Man Scoop)   \n",
       "1                                            Toxic   \n",
       "2                                    Crazy In Love   \n",
       "3                                   Rock Your Body   \n",
       "4                                     It Wasn't Me   \n",
       "...                                            ...   \n",
       "664707                       Blue Ain't Your Color   \n",
       "664708                                  Seein' Red   \n",
       "664709                       Body Like A Back Road   \n",
       "664710                                  Better Man   \n",
       "664711                Are You Gonna Kiss Me Or Not   \n",
       "\n",
       "                                   album_uri  duration_ms  \\\n",
       "0       spotify:album:6vV5UrXcfyQD1wu4Qo2I9K       226863   \n",
       "1       spotify:album:0z7pVBGOD7HCIB7S8eLkLI       198800   \n",
       "2       spotify:album:25hVFAxTlDvXbx2X2QkUkE       235933   \n",
       "3       spotify:album:6QPkyl04rXwTGlGlcYaRoW       267266   \n",
       "4       spotify:album:6NmFmPX56pcLBOFMhIiKvF       227600   \n",
       "...                                      ...          ...   \n",
       "664707  spotify:album:1r7ABqzNXQnUPAH3ZjrHMn       230600   \n",
       "664708  spotify:album:23cuZhPWDfX1uKD4qwuv7t       194893   \n",
       "664709  spotify:album:2N7kidh1wA9EoLdf16QWrz       165386   \n",
       "664710  spotify:album:2aQOzEjLzPkffXDwREXdAh       263120   \n",
       "664711  spotify:album:0kXrl96iUzWkRvxnfrC2YF       184920   \n",
       "\n",
       "                                          album_name   pid  \n",
       "0                                       The Cookbook     0  \n",
       "1                                        In The Zone     0  \n",
       "2       Dangerously In Love (Alben für die Ewigkeit)     0  \n",
       "3                                          Justified     0  \n",
       "4                                           Hot Shot     0  \n",
       "...                                              ...   ...  \n",
       "664707                                       Ripcord  9999  \n",
       "664708                                  Current Mood  9999  \n",
       "664709                         Body Like A Back Road  9999  \n",
       "664710                                   The Breaker  9999  \n",
       "664711                               Thompson Square  9999  \n",
       "\n",
       "[664712 rows x 9 columns]"
      ]
     },
     "execution_count": 7,
     "metadata": {},
     "output_type": "execute_result"
    }
   ],
   "source": [
    "df_tracks = pd.concat(ls_df_tracks, ignore_index=True)\n",
    "df_tracks"
   ]
  },
  {
   "cell_type": "code",
   "execution_count": 8,
   "metadata": {},
   "outputs": [
    {
     "name": "stdout",
     "output_type": "stream",
     "text": [
      "track_uri 170089\n",
      "artist_uri 35892\n",
      "album_uri 81565\n"
     ]
    }
   ],
   "source": [
    "# unique values of the columns\n",
    "print(\"track_uri\",len(df_tracks.track_uri.unique()))\n",
    "print(\"artist_uri\",len(df_tracks.artist_uri.unique()))\n",
    "print(\"album_uri\",len(df_tracks.album_uri.unique()))\n"
   ]
  },
  {
   "attachments": {},
   "cell_type": "markdown",
   "metadata": {},
   "source": [
    "## TODO using the spotify api to collect infomation"
   ]
  },
  {
   "cell_type": "code",
   "execution_count": 9,
   "metadata": {},
   "outputs": [],
   "source": [
    "async def get_all_tracks(list_df):\n",
    "    ls_all_info_df = []\n",
    "    for i,df in enumerate(list_df):\n",
    "        print('track',i)\n",
    "        ls_info = []\n",
    "        for uri in tqdm(df):\n",
    "            result = await spotify_info.get_track_info(uri)\n",
    "            ls_info.append(result)\n",
    "\n",
    "\n",
    "        result_df = pd.DataFrame.from_records(ls_info)\n",
    "        result_df.to_pickle(f\"../data/track_info_{i}.pkl\") \n",
    "        ls_all_info_df.append(result_df)\n",
    "    df_all_info = pd.concat(ls_all_info_df, ignore_index=True)\n",
    "    df_all_info.to_pickle(f\"../data/track_info_all.pkl\") \n",
    "\n",
    "async def get_all_albums(list_df):\n",
    "    ls_all_info_df = []\n",
    "    for i,df in enumerate(list_df):\n",
    "        print('albums',i)\n",
    "        ls_info = []\n",
    "        for uri in tqdm(df):\n",
    "            result = await spotify_info.get_album_info(uri)\n",
    "            ls_info.append(result)\n",
    "\n",
    "\n",
    "        result_df = pd.DataFrame.from_records(ls_info)\n",
    "        result_df.to_pickle(f\"../data/album_info_{i}.pkl\") \n",
    "        ls_all_info_df.append(result_df)\n",
    "    df_all_info = pd.concat(ls_all_info_df, ignore_index=True)\n",
    "    df_all_info.to_pickle(f\"../data/album_info_all.pkl\") \n",
    "\n",
    "async def get_all_artists(list_df):\n",
    "    ls_all_info_df = []\n",
    "    for i,df in enumerate(list_df):\n",
    "        print('artists',i)\n",
    "        ls_info = []\n",
    "        for uri in tqdm(df):\n",
    "            result = await spotify_info.get_artist_info(uri)\n",
    "            ls_info.append(result)\n",
    "\n",
    "\n",
    "        result_df = pd.DataFrame.from_records(ls_info)\n",
    "        result_df.to_pickle(f\"../data/artist_info_{i}.pkl\") \n",
    "        ls_all_info_df.append(result_df)\n",
    "    df_all_info = pd.concat(ls_all_info_df, ignore_index=True)\n",
    "    df_all_info.to_pickle(f\"../data/artist_info_all.pkl\") "
   ]
  },
  {
   "cell_type": "code",
   "execution_count": 10,
   "metadata": {},
   "outputs": [],
   "source": [
    "list_df_track = np.array_split(df_tracks.track_uri.unique(), 17)\n",
    "list_df_artist = np.array_split(df_tracks.artist_uri.unique(), 4)\n",
    "list_df_album = np.array_split(df_tracks.album_uri.unique(), 8)\n"
   ]
  },
  {
   "cell_type": "code",
   "execution_count": 11,
   "metadata": {},
   "outputs": [],
   "source": [
    "# list_df_track = np.array_split(df_tracks.track_uri.unique(), 1700)\n",
    "# list_df_artist = np.array_split(df_tracks.artist_uri.unique(), 400)\n",
    "# list_df_album = np.array_split(df_tracks.album_uri.unique(), 800)\n"
   ]
  },
  {
   "cell_type": "code",
   "execution_count": 12,
   "metadata": {},
   "outputs": [
    {
     "name": "stdout",
     "output_type": "stream",
     "text": [
      "artists 0\n"
     ]
    },
    {
     "name": "stderr",
     "output_type": "stream",
     "text": [
      "  0%|          | 1/8973 [00:00<38:35,  3.88it/s]HTTP Error for GET to https://api.spotify.com/v1/artists/6vWDO969PvNqNYHIOW5v0m with Params: {} returned 401 due to The access token expired\n",
      "  0%|          | 2/8973 [3:14:50<14566:09:21, 5845.30s/it]\n"
     ]
    },
    {
     "ename": "SpotifyException",
     "evalue": "http status: 401, code:-1 - https://api.spotify.com/v1/artists/6vWDO969PvNqNYHIOW5v0m:\n The access token expired, reason: None",
     "output_type": "error",
     "traceback": [
      "\u001b[1;31m---------------------------------------------------------------------------\u001b[0m",
      "\u001b[1;31mHTTPError\u001b[0m                                 Traceback (most recent call last)",
      "\u001b[1;32mc:\\Users\\bobmst\\.conda\\envs\\ds310\\lib\\site-packages\\spotipy\\client.py\u001b[0m in \u001b[0;36m_internal_call\u001b[1;34m(self, method, url, payload, params)\u001b[0m\n\u001b[0;32m    244\u001b[0m \u001b[1;33m\u001b[0m\u001b[0m\n\u001b[1;32m--> 245\u001b[1;33m             \u001b[0mresponse\u001b[0m\u001b[1;33m.\u001b[0m\u001b[0mraise_for_status\u001b[0m\u001b[1;33m(\u001b[0m\u001b[1;33m)\u001b[0m\u001b[1;33m\u001b[0m\u001b[1;33m\u001b[0m\u001b[0m\n\u001b[0m\u001b[0;32m    246\u001b[0m             \u001b[0mresults\u001b[0m \u001b[1;33m=\u001b[0m \u001b[0mresponse\u001b[0m\u001b[1;33m.\u001b[0m\u001b[0mjson\u001b[0m\u001b[1;33m(\u001b[0m\u001b[1;33m)\u001b[0m\u001b[1;33m\u001b[0m\u001b[1;33m\u001b[0m\u001b[0m\n",
      "\u001b[1;32mc:\\Users\\bobmst\\.conda\\envs\\ds310\\lib\\site-packages\\requests\\models.py\u001b[0m in \u001b[0;36mraise_for_status\u001b[1;34m(self)\u001b[0m\n\u001b[0;32m   1020\u001b[0m         \u001b[1;32mif\u001b[0m \u001b[0mhttp_error_msg\u001b[0m\u001b[1;33m:\u001b[0m\u001b[1;33m\u001b[0m\u001b[1;33m\u001b[0m\u001b[0m\n\u001b[1;32m-> 1021\u001b[1;33m             \u001b[1;32mraise\u001b[0m \u001b[0mHTTPError\u001b[0m\u001b[1;33m(\u001b[0m\u001b[0mhttp_error_msg\u001b[0m\u001b[1;33m,\u001b[0m \u001b[0mresponse\u001b[0m\u001b[1;33m=\u001b[0m\u001b[0mself\u001b[0m\u001b[1;33m)\u001b[0m\u001b[1;33m\u001b[0m\u001b[1;33m\u001b[0m\u001b[0m\n\u001b[0m\u001b[0;32m   1022\u001b[0m \u001b[1;33m\u001b[0m\u001b[0m\n",
      "\u001b[1;31mHTTPError\u001b[0m: 401 Client Error: Unauthorized for url: https://api.spotify.com/v1/artists/6vWDO969PvNqNYHIOW5v0m",
      "\nDuring handling of the above exception, another exception occurred:\n",
      "\u001b[1;31mSpotifyException\u001b[0m                          Traceback (most recent call last)",
      "\u001b[1;32m~\\AppData\\Local\\Temp\\ipykernel_33684\\3223144237.py\u001b[0m in \u001b[0;36m<module>\u001b[1;34m\u001b[0m\n\u001b[0;32m      1\u001b[0m \u001b[1;31m# await get_all_tracks(list_df_track)\u001b[0m\u001b[1;33m\u001b[0m\u001b[1;33m\u001b[0m\u001b[0m\n\u001b[1;32m----> 2\u001b[1;33m \u001b[1;32mawait\u001b[0m \u001b[0mget_all_artists\u001b[0m\u001b[1;33m(\u001b[0m\u001b[0mlist_df_artist\u001b[0m\u001b[1;33m)\u001b[0m\u001b[1;33m\u001b[0m\u001b[1;33m\u001b[0m\u001b[0m\n\u001b[0m\u001b[0;32m      3\u001b[0m \u001b[1;32mawait\u001b[0m \u001b[0mget_all_albums\u001b[0m\u001b[1;33m(\u001b[0m\u001b[0mlist_df_track\u001b[0m\u001b[1;33m)\u001b[0m\u001b[1;33m\u001b[0m\u001b[1;33m\u001b[0m\u001b[0m\n\u001b[0;32m      4\u001b[0m \u001b[1;33m\u001b[0m\u001b[0m\n\u001b[0;32m      5\u001b[0m \u001b[1;31m# await asyncio.gather(\u001b[0m\u001b[1;33m\u001b[0m\u001b[1;33m\u001b[0m\u001b[0m\n",
      "\u001b[1;32m~\\AppData\\Local\\Temp\\ipykernel_33684\\2436688721.py\u001b[0m in \u001b[0;36mget_all_artists\u001b[1;34m(list_df)\u001b[0m\n\u001b[0;32m     37\u001b[0m         \u001b[0mls_info\u001b[0m \u001b[1;33m=\u001b[0m \u001b[1;33m[\u001b[0m\u001b[1;33m]\u001b[0m\u001b[1;33m\u001b[0m\u001b[1;33m\u001b[0m\u001b[0m\n\u001b[0;32m     38\u001b[0m         \u001b[1;32mfor\u001b[0m \u001b[0muri\u001b[0m \u001b[1;32min\u001b[0m \u001b[0mtqdm\u001b[0m\u001b[1;33m(\u001b[0m\u001b[0mdf\u001b[0m\u001b[1;33m)\u001b[0m\u001b[1;33m:\u001b[0m\u001b[1;33m\u001b[0m\u001b[1;33m\u001b[0m\u001b[0m\n\u001b[1;32m---> 39\u001b[1;33m             \u001b[0mresult\u001b[0m \u001b[1;33m=\u001b[0m \u001b[1;32mawait\u001b[0m \u001b[0mspotify_info\u001b[0m\u001b[1;33m.\u001b[0m\u001b[0mget_artist_info\u001b[0m\u001b[1;33m(\u001b[0m\u001b[0muri\u001b[0m\u001b[1;33m)\u001b[0m\u001b[1;33m\u001b[0m\u001b[1;33m\u001b[0m\u001b[0m\n\u001b[0m\u001b[0;32m     40\u001b[0m             \u001b[0mls_info\u001b[0m\u001b[1;33m.\u001b[0m\u001b[0mappend\u001b[0m\u001b[1;33m(\u001b[0m\u001b[0mresult\u001b[0m\u001b[1;33m)\u001b[0m\u001b[1;33m\u001b[0m\u001b[1;33m\u001b[0m\u001b[0m\n\u001b[0;32m     41\u001b[0m \u001b[1;33m\u001b[0m\u001b[0m\n",
      "\u001b[1;32md:\\000Drexel\\10_DSCI631_Applied_Machine_Learning\\Assignmnet\\Projects\\DSCI631-project-spotify-recommendation\\data_acquisition\\spotify_info.py\u001b[0m in \u001b[0;36mget_artist_info\u001b[1;34m(uri)\u001b[0m\n\u001b[0;32m     38\u001b[0m \u001b[1;33m@\u001b[0m\u001b[0mretry\u001b[0m\u001b[1;33m(\u001b[0m\u001b[0mdelay\u001b[0m\u001b[1;33m=\u001b[0m\u001b[1;36m30\u001b[0m\u001b[1;33m,\u001b[0m \u001b[0mtries\u001b[0m\u001b[1;33m=\u001b[0m\u001b[1;36m4\u001b[0m\u001b[1;33m)\u001b[0m\u001b[1;33m\u001b[0m\u001b[1;33m\u001b[0m\u001b[0m\n\u001b[0;32m     39\u001b[0m \u001b[1;32masync\u001b[0m \u001b[1;32mdef\u001b[0m \u001b[0mget_artist_info\u001b[0m\u001b[1;33m(\u001b[0m\u001b[0muri\u001b[0m\u001b[1;33m)\u001b[0m\u001b[1;33m:\u001b[0m\u001b[1;33m\u001b[0m\u001b[1;33m\u001b[0m\u001b[0m\n\u001b[1;32m---> 40\u001b[1;33m     \u001b[0minfo\u001b[0m \u001b[1;33m=\u001b[0m \u001b[0msp_client\u001b[0m\u001b[1;33m.\u001b[0m\u001b[0martist\u001b[0m\u001b[1;33m(\u001b[0m\u001b[0muri\u001b[0m\u001b[1;33m)\u001b[0m\u001b[1;33m\u001b[0m\u001b[1;33m\u001b[0m\u001b[0m\n\u001b[0m\u001b[0;32m     41\u001b[0m     \u001b[1;31m# drop unnessasary features\u001b[0m\u001b[1;33m\u001b[0m\u001b[1;33m\u001b[0m\u001b[0m\n\u001b[0;32m     42\u001b[0m     \u001b[0minfo\u001b[0m\u001b[1;33m.\u001b[0m\u001b[0mpop\u001b[0m\u001b[1;33m(\u001b[0m\u001b[1;34m\"external_urls\"\u001b[0m\u001b[1;33m,\u001b[0m \u001b[1;32mNone\u001b[0m\u001b[1;33m)\u001b[0m\u001b[1;33m\u001b[0m\u001b[1;33m\u001b[0m\u001b[0m\n",
      "\u001b[1;32mc:\\Users\\bobmst\\.conda\\envs\\ds310\\lib\\site-packages\\spotipy\\client.py\u001b[0m in \u001b[0;36martist\u001b[1;34m(self, artist_id)\u001b[0m\n\u001b[0;32m    364\u001b[0m \u001b[1;33m\u001b[0m\u001b[0m\n\u001b[0;32m    365\u001b[0m         \u001b[0mtrid\u001b[0m \u001b[1;33m=\u001b[0m \u001b[0mself\u001b[0m\u001b[1;33m.\u001b[0m\u001b[0m_get_id\u001b[0m\u001b[1;33m(\u001b[0m\u001b[1;34m\"artist\"\u001b[0m\u001b[1;33m,\u001b[0m \u001b[0martist_id\u001b[0m\u001b[1;33m)\u001b[0m\u001b[1;33m\u001b[0m\u001b[1;33m\u001b[0m\u001b[0m\n\u001b[1;32m--> 366\u001b[1;33m         \u001b[1;32mreturn\u001b[0m \u001b[0mself\u001b[0m\u001b[1;33m.\u001b[0m\u001b[0m_get\u001b[0m\u001b[1;33m(\u001b[0m\u001b[1;34m\"artists/\"\u001b[0m \u001b[1;33m+\u001b[0m \u001b[0mtrid\u001b[0m\u001b[1;33m)\u001b[0m\u001b[1;33m\u001b[0m\u001b[1;33m\u001b[0m\u001b[0m\n\u001b[0m\u001b[0;32m    367\u001b[0m \u001b[1;33m\u001b[0m\u001b[0m\n\u001b[0;32m    368\u001b[0m     \u001b[1;32mdef\u001b[0m \u001b[0martists\u001b[0m\u001b[1;33m(\u001b[0m\u001b[0mself\u001b[0m\u001b[1;33m,\u001b[0m \u001b[0martists\u001b[0m\u001b[1;33m)\u001b[0m\u001b[1;33m:\u001b[0m\u001b[1;33m\u001b[0m\u001b[1;33m\u001b[0m\u001b[0m\n",
      "\u001b[1;32mc:\\Users\\bobmst\\.conda\\envs\\ds310\\lib\\site-packages\\spotipy\\client.py\u001b[0m in \u001b[0;36m_get\u001b[1;34m(self, url, args, payload, **kwargs)\u001b[0m\n\u001b[0;32m    295\u001b[0m             \u001b[0mkwargs\u001b[0m\u001b[1;33m.\u001b[0m\u001b[0mupdate\u001b[0m\u001b[1;33m(\u001b[0m\u001b[0margs\u001b[0m\u001b[1;33m)\u001b[0m\u001b[1;33m\u001b[0m\u001b[1;33m\u001b[0m\u001b[0m\n\u001b[0;32m    296\u001b[0m \u001b[1;33m\u001b[0m\u001b[0m\n\u001b[1;32m--> 297\u001b[1;33m         \u001b[1;32mreturn\u001b[0m \u001b[0mself\u001b[0m\u001b[1;33m.\u001b[0m\u001b[0m_internal_call\u001b[0m\u001b[1;33m(\u001b[0m\u001b[1;34m\"GET\"\u001b[0m\u001b[1;33m,\u001b[0m \u001b[0murl\u001b[0m\u001b[1;33m,\u001b[0m \u001b[0mpayload\u001b[0m\u001b[1;33m,\u001b[0m \u001b[0mkwargs\u001b[0m\u001b[1;33m)\u001b[0m\u001b[1;33m\u001b[0m\u001b[1;33m\u001b[0m\u001b[0m\n\u001b[0m\u001b[0;32m    298\u001b[0m \u001b[1;33m\u001b[0m\u001b[0m\n\u001b[0;32m    299\u001b[0m     \u001b[1;32mdef\u001b[0m \u001b[0m_post\u001b[0m\u001b[1;33m(\u001b[0m\u001b[0mself\u001b[0m\u001b[1;33m,\u001b[0m \u001b[0murl\u001b[0m\u001b[1;33m,\u001b[0m \u001b[0margs\u001b[0m\u001b[1;33m=\u001b[0m\u001b[1;32mNone\u001b[0m\u001b[1;33m,\u001b[0m \u001b[0mpayload\u001b[0m\u001b[1;33m=\u001b[0m\u001b[1;32mNone\u001b[0m\u001b[1;33m,\u001b[0m \u001b[1;33m**\u001b[0m\u001b[0mkwargs\u001b[0m\u001b[1;33m)\u001b[0m\u001b[1;33m:\u001b[0m\u001b[1;33m\u001b[0m\u001b[1;33m\u001b[0m\u001b[0m\n",
      "\u001b[1;32mc:\\Users\\bobmst\\.conda\\envs\\ds310\\lib\\site-packages\\spotipy\\client.py\u001b[0m in \u001b[0;36m_internal_call\u001b[1;34m(self, method, url, payload, params)\u001b[0m\n\u001b[0;32m    265\u001b[0m             )\n\u001b[0;32m    266\u001b[0m \u001b[1;33m\u001b[0m\u001b[0m\n\u001b[1;32m--> 267\u001b[1;33m             raise SpotifyException(\n\u001b[0m\u001b[0;32m    268\u001b[0m                 \u001b[0mresponse\u001b[0m\u001b[1;33m.\u001b[0m\u001b[0mstatus_code\u001b[0m\u001b[1;33m,\u001b[0m\u001b[1;33m\u001b[0m\u001b[1;33m\u001b[0m\u001b[0m\n\u001b[0;32m    269\u001b[0m                 \u001b[1;33m-\u001b[0m\u001b[1;36m1\u001b[0m\u001b[1;33m,\u001b[0m\u001b[1;33m\u001b[0m\u001b[1;33m\u001b[0m\u001b[0m\n",
      "\u001b[1;31mSpotifyException\u001b[0m: http status: 401, code:-1 - https://api.spotify.com/v1/artists/6vWDO969PvNqNYHIOW5v0m:\n The access token expired, reason: None"
     ]
    },
    {
     "ename": "",
     "evalue": "",
     "output_type": "error",
     "traceback": [
      "\u001b[1;31mThe Kernel crashed while executing code in the the current cell or a previous cell. Please review the code in the cell(s) to identify a possible cause of the failure. Click <a href='https://aka.ms/vscodeJupyterKernelCrash'>here</a> for more info. View Jupyter <a href='command:jupyter.viewOutput'>log</a> for further details."
     ]
    }
   ],
   "source": [
    "\n",
    "# await get_all_tracks(list_df_track)\n",
    "await get_all_artists(list_df_artist)\n",
    "await get_all_albums(list_df_track)\n",
    "\n",
    "# await asyncio.gather(\n",
    "#     get_all_tracks(list_df_track),\n",
    "#     get_all_artists(list_df_artist),\n",
    "#     get_all_albums(list_df_track)\n",
    "# )\n",
    "# async def main():\n",
    "#     await asyncio.gather(\n",
    "#         get_all_tracks(list_df_track[:2]),\n",
    "#         get_all_artists(list_df_artist[:2]),\n",
    "#         get_all_albums(list_df_track[:2])\n",
    "#     )\n"
   ]
  },
  {
   "attachments": {},
   "cell_type": "markdown",
   "metadata": {},
   "source": [
    "## TODO merge the collected information back to track, artist, album dataset"
   ]
  }
 ],
 "metadata": {
  "kernelspec": {
   "display_name": "ds310",
   "language": "python",
   "name": "python3"
  },
  "language_info": {
   "codemirror_mode": {
    "name": "ipython",
    "version": 3
   },
   "file_extension": ".py",
   "mimetype": "text/x-python",
   "name": "python",
   "nbconvert_exporter": "python",
   "pygments_lexer": "ipython3",
   "version": "3.10.4"
  },
  "orig_nbformat": 4
 },
 "nbformat": 4,
 "nbformat_minor": 2
}
